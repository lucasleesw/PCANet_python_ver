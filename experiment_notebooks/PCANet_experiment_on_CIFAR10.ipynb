{
  "nbformat": 4,
  "nbformat_minor": 0,
  "metadata": {
    "colab": {
      "name": "PCANet_experiment_on_CIFAR10.ipynb",
      "provenance": [],
      "collapsed_sections": [],
      "machine_shape": "hm"
    },
    "kernelspec": {
      "name": "python3",
      "display_name": "Python 3"
    },
    "accelerator": "GPU"
  },
  "cells": [
    {
      "cell_type": "code",
      "metadata": {
        "id": "509ePZQz7pyb",
        "colab_type": "code",
        "outputId": "666e2db9-f920-4ddb-e881-09939fdfb52b",
        "colab": {
          "base_uri": "https://localhost:8080/",
          "height": 122
        }
      },
      "source": [
        "from google.colab import drive\n",
        "drive.mount('/content/drive/')"
      ],
      "execution_count": 0,
      "outputs": [
        {
          "output_type": "stream",
          "text": [
            "Go to this URL in a browser: https://accounts.google.com/o/oauth2/auth?client_id=947318989803-6bn6qk8qdgf4n4g3pfee6491hc0brc4i.apps.googleusercontent.com&redirect_uri=urn%3aietf%3awg%3aoauth%3a2.0%3aoob&response_type=code&scope=email%20https%3a%2f%2fwww.googleapis.com%2fauth%2fdocs.test%20https%3a%2f%2fwww.googleapis.com%2fauth%2fdrive%20https%3a%2f%2fwww.googleapis.com%2fauth%2fdrive.photos.readonly%20https%3a%2f%2fwww.googleapis.com%2fauth%2fpeopleapi.readonly\n",
            "\n",
            "Enter your authorization code:\n",
            "··········\n",
            "Mounted at /content/drive/\n"
          ],
          "name": "stdout"
        }
      ]
    },
    {
      "cell_type": "code",
      "metadata": {
        "id": "DxDr8Cby87Qs",
        "colab_type": "code",
        "outputId": "89fa84b4-4236-4600-fc3c-ee72550b056c",
        "colab": {
          "base_uri": "https://localhost:8080/",
          "height": 34
        }
      },
      "source": [
        "cd '/content/drive/My Drive/pcanet/PCANet_python_ver/'"
      ],
      "execution_count": 0,
      "outputs": [
        {
          "output_type": "stream",
          "text": [
            "/content/drive/My Drive/pcanet/PCANet_python_ver\n"
          ],
          "name": "stdout"
        }
      ]
    },
    {
      "cell_type": "code",
      "metadata": {
        "id": "3mmIAw2NAqzH",
        "colab_type": "code",
        "outputId": "7eea3bdd-cd8d-4e6a-9cfe-6bf2d84b4290",
        "colab": {
          "base_uri": "https://localhost:8080/",
          "height": 119
        }
      },
      "source": [
        "ls"
      ],
      "execution_count": 0,
      "outputs": [
        {
          "output_type": "stream",
          "text": [
            "cifar_1.pkl          LICENSE                            PCANet-MNIST.ipynb\n",
            "colab_CIFAR10.ipynb  mnist_background_images.pkl        PCANet.py\n",
            "\u001b[0m\u001b[01;34mdata\u001b[0m/                mnist_background_random.pkl        playground.ipynb\n",
            "data_loader2.py      mnist_basic.pkl                    \u001b[01;34m__pycache__\u001b[0m/\n",
            "data_loader.py       mnist_rotation_back_image_new.pkl  README.md\n",
            "interface.py         mnist_rotation_new.pkl\n"
          ],
          "name": "stdout"
        }
      ]
    },
    {
      "cell_type": "code",
      "metadata": {
        "id": "yWvS1eWYS-XM",
        "colab_type": "code",
        "colab": {}
      },
      "source": [
        "import numpy as np\n",
        "import os\n",
        "from PCANet import *\n",
        "from data_loader import *\n",
        "import sys\n",
        "import torch\n",
        "from sklearn.metrics import accuracy_score"
      ],
      "execution_count": 0,
      "outputs": []
    },
    {
      "cell_type": "code",
      "metadata": {
        "id": "AzKy5d_yR13K",
        "colab_type": "code",
        "colab": {}
      },
      "source": [
        "root = '/content/drive/My Drive/pcanet/PCANet_python_ver/data/cifar-10-batches-py'"
      ],
      "execution_count": 0,
      "outputs": []
    },
    {
      "cell_type": "code",
      "metadata": {
        "id": "UfD7EAsYUhtX",
        "colab_type": "code",
        "colab": {}
      },
      "source": [
        "train_data, train_labels, test_data, test_labels = load_CIFAR10(root)"
      ],
      "execution_count": 0,
      "outputs": []
    },
    {
      "cell_type": "code",
      "metadata": {
        "id": "A05loaizTjSY",
        "colab_type": "code",
        "outputId": "898fd72f-fcdc-4aec-b042-340491ed9da3",
        "colab": {
          "base_uri": "https://localhost:8080/",
          "height": 34
        }
      },
      "source": [
        "train_data.shape, train_labels.shape, test_data.shape, test_labels.shape"
      ],
      "execution_count": 0,
      "outputs": [
        {
          "output_type": "execute_result",
          "data": {
            "text/plain": [
              "((50000, 32, 32, 3), (50000,), (10000, 32, 32, 3), (10000,))"
            ]
          },
          "metadata": {
            "tags": []
          },
          "execution_count": 19
        }
      ]
    },
    {
      "cell_type": "code",
      "metadata": {
        "id": "JdHlwbukRZzC",
        "colab_type": "code",
        "outputId": "3f9507a9-864d-45e8-b6ca-cf928e10b96f",
        "colab": {
          "base_uri": "https://localhost:8080/",
          "height": 1000
        }
      },
      "source": [
        "net = PCANet(k1=5, k2=5, L1=40, L2=8, block_size=8, overlapping_radio=0.5, spp_parm=(4,2,1), dim_reduction=1280)\n",
        "net.fit(train_data[:15000], train_labels[:15000])\n",
        "prediction = net.predict(test_data[:10000])\n",
        "print(accuracy_score(test_labels[:10000], prediction))"
      ],
      "execution_count": 0,
      "outputs": [
        {
          "output_type": "stream",
          "text": [
            "====================\n",
            "calculating L1_stage filters\n",
            "0 th picture\n",
            "10000 th picture\n",
            "shape of L1_stage filters: (40, 5, 5, 3)\n",
            "shape of L1 stage convolution results: (600000, 32, 32)\n",
            "====================\n",
            "calculating L2_stage filters\n",
            "0 th picture\n",
            "10000 th picture\n",
            "20000 th picture\n",
            "30000 th picture\n",
            "40000 th picture\n",
            "50000 th picture\n",
            "60000 th picture\n",
            "70000 th picture\n",
            "80000 th picture\n",
            "90000 th picture\n",
            "100000 th picture\n",
            "110000 th picture\n",
            "120000 th picture\n",
            "130000 th picture\n",
            "140000 th picture\n",
            "150000 th picture\n",
            "160000 th picture\n",
            "170000 th picture\n",
            "180000 th picture\n",
            "190000 th picture\n",
            "200000 th picture\n",
            "210000 th picture\n",
            "220000 th picture\n",
            "230000 th picture\n",
            "240000 th picture\n",
            "250000 th picture\n",
            "260000 th picture\n",
            "270000 th picture\n",
            "280000 th picture\n",
            "290000 th picture\n",
            "300000 th picture\n",
            "310000 th picture\n",
            "320000 th picture\n",
            "330000 th picture\n",
            "340000 th picture\n",
            "350000 th picture\n",
            "360000 th picture\n",
            "370000 th picture\n",
            "380000 th picture\n",
            "390000 th picture\n",
            "400000 th picture\n",
            "410000 th picture\n",
            "420000 th picture\n",
            "430000 th picture\n",
            "440000 th picture\n",
            "450000 th picture\n",
            "460000 th picture\n",
            "470000 th picture\n",
            "480000 th picture\n",
            "490000 th picture\n",
            "500000 th picture\n",
            "510000 th picture\n",
            "520000 th picture\n",
            "530000 th picture\n",
            "540000 th picture\n",
            "550000 th picture\n",
            "560000 th picture\n",
            "570000 th picture\n",
            "580000 th picture\n",
            "590000 th picture\n",
            "shape of L2_stage filters: (8, 5, 5)\n",
            "====================\n",
            "extracting 0 th feature\n",
            "extracting 1000 th feature\n",
            "extracting 2000 th feature\n",
            "extracting 3000 th feature\n",
            "extracting 4000 th feature\n",
            "extracting 5000 th feature\n",
            "extracting 6000 th feature\n",
            "extracting 7000 th feature\n",
            "extracting 8000 th feature\n",
            "extracting 9000 th feature\n",
            "extracting 10000 th feature\n",
            "extracting 11000 th feature\n",
            "extracting 12000 th feature\n",
            "extracting 13000 th feature\n",
            "extracting 14000 th feature\n",
            "length of feature: 26880\n",
            "====================\n",
            "features extracted, SVM training\n",
            "====================\n",
            "predicting 0 th label\n",
            "predicting 500 th label\n",
            "predicting 1000 th label\n",
            "predicting 1500 th label\n",
            "predicting 2000 th label\n",
            "predicting 2500 th label\n",
            "predicting 3000 th label\n",
            "predicting 3500 th label\n",
            "predicting 4000 th label\n",
            "predicting 4500 th label\n",
            "predicting 5000 th label\n",
            "predicting 5500 th label\n",
            "predicting 6000 th label\n",
            "predicting 6500 th label\n",
            "predicting 7000 th label\n",
            "predicting 7500 th label\n",
            "predicting 8000 th label\n",
            "predicting 8500 th label\n",
            "predicting 9000 th label\n"
          ],
          "name": "stdout"
        },
        {
          "output_type": "stream",
          "text": [
            "/usr/local/lib/python3.6/dist-packages/sklearn/decomposition/_pca.py:456: RuntimeWarning: invalid value encountered in true_divide\n",
            "  explained_variance_ratio_ = explained_variance_ / total_var\n"
          ],
          "name": "stderr"
        },
        {
          "output_type": "stream",
          "text": [
            "predicting 9500 th label\n",
            "====================\n",
            "0.399\n"
          ],
          "name": "stdout"
        }
      ]
    },
    {
      "cell_type": "code",
      "metadata": {
        "id": "NSVD3wE0hV-o",
        "colab_type": "code",
        "colab": {}
      },
      "source": [
        "import pickle\n",
        " \n",
        "pickle.dump(net,open('/content/drive/My Drive/pcanet/PCANet_python_ver/cifar_1.pt','wb'),protocol = 4)"
      ],
      "execution_count": 0,
      "outputs": []
    }
  ]
}